{
 "cells": [
  {
   "cell_type": "code",
   "execution_count": 1,
   "metadata": {},
   "outputs": [
    {
     "name": "stdout",
     "output_type": "stream",
     "text": [
      "{'success' : 'great', 'colleague' : 'esteemed', 'efforts' : 'incredible', 'achievement' : 'unlocked', 'rabbits' : 'safe', 'foo' : 'win!'}\n"
     ]
    }
   ],
   "source": [
    "#Encrypting Google foo.bar 2017 encrypted message\n",
    "#Algo-> Decode the message string to base64 bytes.\n",
    "#       and do XOR of decoded bytes with your Google username.\n",
    "\n",
    "import base64\n",
    "\n",
    "#The encrypted key\n",
    "message='KGwgBwoNDAcbXkVfc2w0AAwPHVNEWUIGPCc/FwgJHBFPWV9FdC4gBgwLBBEMXklFdC41FAYcHQdP WV9FdCI9ERsLDR0KFQBCf2t0EwoGABEeHAgAPT90UlNOTgEGFQoGOC43VUVOTgYJGwcMJzh0UlNO TgcJHwBCf2t0FAYBTlRSWUISOiVyVRQ='\n",
    "\n",
    "#Your Google username\n",
    "key='SKSrinithyee'\n",
    "\n",
    "decrypted_message=[]\n",
    "\n",
    "#decode the key to base64 bytes\n",
    "dec_bytes=base64.b64decode(message)\n",
    "\n",
    "#XOR with Username\n",
    "for a,b in enumerate(dec_bytes):\n",
    "    decrypted_message.append(chr(b ^ ord(key[a%len(key)])))\n",
    "\n",
    "#The encypted message\n",
    "print(\"\".join(decrypted_message))"
   ]
  },
  {
   "cell_type": "code",
   "execution_count": null,
   "metadata": {},
   "outputs": [],
   "source": []
  }
 ],
 "metadata": {
  "kernelspec": {
   "display_name": "Python 3",
   "language": "python",
   "name": "python3"
  },
  "language_info": {
   "codemirror_mode": {
    "name": "ipython",
    "version": 3
   },
   "file_extension": ".py",
   "mimetype": "text/x-python",
   "name": "python",
   "nbconvert_exporter": "python",
   "pygments_lexer": "ipython3",
   "version": "3.7.6"
  }
 },
 "nbformat": 4,
 "nbformat_minor": 4
}
